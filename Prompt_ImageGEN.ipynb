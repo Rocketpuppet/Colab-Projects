{
  "cells": [
    {
      "cell_type": "markdown",
      "metadata": {
        "id": "view-in-github",
        "colab_type": "text"
      },
      "source": [
        "<a href=\"https://colab.research.google.com/github/Rocketpuppet/Colab-Projects/blob/main/Prompt_ImageGEN.ipynb\" target=\"_parent\"><img src=\"https://colab.research.google.com/assets/colab-badge.svg\" alt=\"Open In Colab\"/></a>"
      ]
    },
    {
      "cell_type": "code",
      "execution_count": null,
      "metadata": {
        "id": "GH0fa_gLORqu"
      },
      "outputs": [],
      "source": [
        "!git clone https://github.com/huggingface/diffusers;\\\n",
        "cd diffusers;\\\n",
        "pip install .;\\\n",
        "cd examples/text_to_image;\\\n",
        "pip install -r requirements.txt;"
      ]
    },
    {
      "cell_type": "code",
      "execution_count": null,
      "metadata": {
        "id": "ydfdEoEdOyr7"
      },
      "outputs": [],
      "source": [
        "!accelerate config default"
      ]
    },
    {
      "cell_type": "code",
      "execution_count": null,
      "metadata": {
        "id": "LewucMh0KRV9"
      },
      "outputs": [],
      "source": [
        "!mkdir -p /content/dataset_files/\n",
        "!mkdir -p /content/output_files/"
      ]
    },
    {
      "cell_type": "code",
      "execution_count": null,
      "metadata": {
        "id": "356qCk46Gehs"
      },
      "outputs": [],
      "source": [
        "!python3 -m pip install --upgrade pip\n",
        "!python3 -m pip install --upgrade Pillow"
      ]
    },
    {
      "cell_type": "code",
      "execution_count": null,
      "metadata": {
        "colab": {
          "base_uri": "https://localhost:8080/"
        },
        "id": "CzxnUTADGUnD",
        "outputId": "03b2ae2c-f094-4052-cc8e-95b1b14766eb"
      },
      "outputs": [
        {
          "name": "stdout",
          "output_type": "stream",
          "text": [
            "full_numpy_bitmap_ambulance.npy\n",
            "(148004, 784)\n",
            "full_numpy_bitmap_anvil.npy\n",
            "(126231, 784)\n"
          ]
        }
      ],
      "source": [
        "import numpy as np\n",
        "from PIL import Image, ImageDraw\n",
        "import uuid\n",
        "import os\n",
        "\n",
        "\n",
        "def process_drawing(main_dir):\n",
        "  with open('/content/metadata.csv', 'w') as f:\n",
        "      f.write('file_name,text\\n')\n",
        "      for filename in os.listdir(main_dir):\n",
        "          print(filename)\n",
        "          if filename =='.ipynb_checkpoints':\n",
        "              print('file_Found')\n",
        "              pass\n",
        "          else:\n",
        "              files = np.load(f'/content/dataset_files/{filename}')\n",
        "              print(files.shape)\n",
        "              for i, array in enumerate(files):\n",
        "                  name = f'/content/output_files/Image_File{i}.png'\n",
        "                  f.write(f'Image_File{i}.png,{os.path.splitext(filename)[0].split(\"_\")[-1]}\\n')\n",
        "                  im = Image.fromarray(array.reshape([28, 28]))\n",
        "                  im.save(name)\n",
        "\n",
        "\n",
        "process_drawing('/content/dataset_files')\n"
      ]
    },
    {
      "cell_type": "code",
      "execution_count": null,
      "metadata": {
        "colab": {
          "background_save": true
        },
        "id": "u9dltGz6GY4-"
      },
      "outputs": [],
      "source": [
        "!python3 -m pip install datasets xformers\n",
        "!python3 -m pip install torchvision\n"
      ]
    },
    {
      "cell_type": "code",
      "execution_count": null,
      "metadata": {
        "colab": {
          "background_save": true
        },
        "id": "Nze9iLhZVhNC",
        "outputId": "b25c1dd0-54d6-40d7-d40a-8038d5973636"
      },
      "outputs": [
        {
          "name": "stdout",
          "output_type": "stream",
          "text": [
            "file_name,text\n",
            "Image_File0.png,ambulance\n",
            "Image_File1.png,ambulance\n",
            "Image_File2.png,ambulance\n",
            "Image_File3.png,ambulance\n",
            "Image_File4.png,ambulance\n",
            "Image_File5.png,ambulance\n",
            "Image_File6.png,ambulance\n",
            "Image_File7.png,ambulance\n",
            "Image_File8.png,ambulance\n"
          ]
        }
      ],
      "source": [
        "!head /content/metadata.csv"
      ]
    },
    {
      "cell_type": "code",
      "execution_count": null,
      "metadata": {
        "colab": {
          "background_save": true
        },
        "id": "yIl2clTQNFxM",
        "outputId": "648abe87-04b7-4391-f9fa-5d2e9e35ecb4"
      },
      "outputs": [
        {
          "name": "stdout",
          "output_type": "stream",
          "text": [
            "WARNING[XFORMERS]: xFormers can't load C++/CUDA extensions. xFormers was built for:\n",
            "    PyTorch 2.3.0+cu121 with CUDA 1201 (you have 2.2.1+cu121)\n",
            "    Python  3.10.14 (you have 3.10.12)\n",
            "  Please reinstall xformers (see https://github.com/facebookresearch/xformers#installing-xformers)\n",
            "  Memory-efficient attention, SwiGLU, sparse and more won't be available.\n",
            "  Set XFORMERS_MORE_DETAILS=1 for more details\n",
            "2024-05-03 20:10:03.441311: E external/local_xla/xla/stream_executor/cuda/cuda_dnn.cc:9261] Unable to register cuDNN factory: Attempting to register factory for plugin cuDNN when one has already been registered\n",
            "2024-05-03 20:10:03.441389: E external/local_xla/xla/stream_executor/cuda/cuda_fft.cc:607] Unable to register cuFFT factory: Attempting to register factory for plugin cuFFT when one has already been registered\n",
            "2024-05-03 20:10:03.536387: E external/local_xla/xla/stream_executor/cuda/cuda_blas.cc:1515] Unable to register cuBLAS factory: Attempting to register factory for plugin cuBLAS when one has already been registered\n",
            "2024-05-03 20:10:05.937580: W tensorflow/compiler/tf2tensorrt/utils/py_utils.cc:38] TF-TRT Warning: Could not find TensorRT\n",
            "05/03/2024 20:10:07 - INFO - __main__ - Distributed environment: NO\n",
            "Num processes: 1\n",
            "Process index: 0\n",
            "Local process index: 0\n",
            "Device: cuda\n",
            "\n",
            "Mixed precision type: fp16\n",
            "\n",
            "{'timestep_spacing', 'prediction_type', 'variance_type', 'sample_max_value', 'thresholding', 'clip_sample_range', 'dynamic_thresholding_ratio', 'rescale_betas_zero_snr'} was not found in config. Values will be initialized to default values.\n",
            "/usr/local/lib/python3.10/dist-packages/huggingface_hub/file_download.py:1132: FutureWarning: `resume_download` is deprecated and will be removed in version 1.0.0. Downloads always resume when possible. If you want to force a new download, use `force_download=True`.\n",
            "  warnings.warn(\n",
            "{'latents_mean', 'force_upcast', 'latents_std', 'scaling_factor'} was not found in config. Values will be initialized to default values.\n",
            "{'addition_embed_type_num_heads', 'resnet_time_scale_shift', 'time_embedding_type', 'class_embed_type', 'cross_attention_norm', 'addition_time_embed_dim', 'dropout', 'resnet_out_scale_factor', 'encoder_hid_dim_type', 'encoder_hid_dim', 'use_linear_projection', 'num_attention_heads', 'attention_type', 'only_cross_attention', 'timestep_post_act', 'upcast_attention', 'reverse_transformer_layers_per_block', 'resnet_skip_time_act', 'dual_cross_attention', 'class_embeddings_concat', 'mid_block_only_cross_attention', 'conv_out_kernel', 'conv_in_kernel', 'time_embedding_dim', 'addition_embed_type', 'mid_block_type', 'transformer_layers_per_block', 'time_embedding_act_fn', 'num_class_embeds', 'projection_class_embeddings_input_dim', 'time_cond_proj_dim'} was not found in config. Values will be initialized to default values.\n",
            "{'addition_embed_type_num_heads', 'resnet_time_scale_shift', 'time_embedding_type', 'class_embed_type', 'cross_attention_norm', 'addition_time_embed_dim', 'dropout', 'resnet_out_scale_factor', 'encoder_hid_dim_type', 'encoder_hid_dim', 'use_linear_projection', 'num_attention_heads', 'attention_type', 'only_cross_attention', 'timestep_post_act', 'upcast_attention', 'reverse_transformer_layers_per_block', 'resnet_skip_time_act', 'dual_cross_attention', 'class_embeddings_concat', 'mid_block_only_cross_attention', 'conv_out_kernel', 'conv_in_kernel', 'time_embedding_dim', 'addition_embed_type', 'mid_block_type', 'transformer_layers_per_block', 'time_embedding_act_fn', 'num_class_embeds', 'projection_class_embeddings_input_dim', 'time_cond_proj_dim'} was not found in config. Values will be initialized to default values.\n",
            "Traceback (most recent call last):\n",
            "  File \"/content/diffusers/examples/text_to_image/train_text_to_image.py\", line 1123, in <module>\n",
            "    main()\n",
            "  File \"/content/diffusers/examples/text_to_image/train_text_to_image.py\", line 638, in main\n",
            "    unet.enable_xformers_memory_efficient_attention()\n",
            "  File \"/usr/local/lib/python3.10/dist-packages/diffusers/models/modeling_utils.py\", line 356, in enable_xformers_memory_efficient_attention\n",
            "    self.set_use_memory_efficient_attention_xformers(True, attention_op)\n",
            "  File \"/usr/local/lib/python3.10/dist-packages/diffusers/models/modeling_utils.py\", line 320, in set_use_memory_efficient_attention_xformers\n",
            "    fn_recursive_set_mem_eff(module)\n",
            "  File \"/usr/local/lib/python3.10/dist-packages/diffusers/models/modeling_utils.py\", line 316, in fn_recursive_set_mem_eff\n",
            "    fn_recursive_set_mem_eff(child)\n",
            "  File \"/usr/local/lib/python3.10/dist-packages/diffusers/models/modeling_utils.py\", line 316, in fn_recursive_set_mem_eff\n",
            "    fn_recursive_set_mem_eff(child)\n",
            "  File \"/usr/local/lib/python3.10/dist-packages/diffusers/models/modeling_utils.py\", line 316, in fn_recursive_set_mem_eff\n",
            "    fn_recursive_set_mem_eff(child)\n",
            "  File \"/usr/local/lib/python3.10/dist-packages/diffusers/models/modeling_utils.py\", line 313, in fn_recursive_set_mem_eff\n",
            "    module.set_use_memory_efficient_attention_xformers(valid, attention_op)\n",
            "  File \"/usr/local/lib/python3.10/dist-packages/diffusers/models/modeling_utils.py\", line 320, in set_use_memory_efficient_attention_xformers\n",
            "    fn_recursive_set_mem_eff(module)\n",
            "  File \"/usr/local/lib/python3.10/dist-packages/diffusers/models/modeling_utils.py\", line 316, in fn_recursive_set_mem_eff\n",
            "    fn_recursive_set_mem_eff(child)\n",
            "  File \"/usr/local/lib/python3.10/dist-packages/diffusers/models/modeling_utils.py\", line 316, in fn_recursive_set_mem_eff\n",
            "    fn_recursive_set_mem_eff(child)\n",
            "  File \"/usr/local/lib/python3.10/dist-packages/diffusers/models/modeling_utils.py\", line 313, in fn_recursive_set_mem_eff\n",
            "    module.set_use_memory_efficient_attention_xformers(valid, attention_op)\n",
            "  File \"/usr/local/lib/python3.10/dist-packages/diffusers/models/attention_processor.py\", line 291, in set_use_memory_efficient_attention_xformers\n",
            "    raise e\n",
            "  File \"/usr/local/lib/python3.10/dist-packages/diffusers/models/attention_processor.py\", line 285, in set_use_memory_efficient_attention_xformers\n",
            "    _ = xformers.ops.memory_efficient_attention(\n",
            "  File \"/usr/local/lib/python3.10/dist-packages/xformers/ops/fmha/__init__.py\", line 268, in memory_efficient_attention\n",
            "    return _memory_efficient_attention(\n",
            "  File \"/usr/local/lib/python3.10/dist-packages/xformers/ops/fmha/__init__.py\", line 387, in _memory_efficient_attention\n",
            "    return _memory_efficient_attention_forward(\n",
            "  File \"/usr/local/lib/python3.10/dist-packages/xformers/ops/fmha/__init__.py\", line 403, in _memory_efficient_attention_forward\n",
            "    op = _dispatch_fw(inp, False)\n",
            "  File \"/usr/local/lib/python3.10/dist-packages/xformers/ops/fmha/dispatch.py\", line 125, in _dispatch_fw\n",
            "    return _run_priority_list(\n",
            "  File \"/usr/local/lib/python3.10/dist-packages/xformers/ops/fmha/dispatch.py\", line 65, in _run_priority_list\n",
            "    raise NotImplementedError(msg)\n",
            "NotImplementedError: No operator found for `memory_efficient_attention_forward` with inputs:\n",
            "     query       : shape=(1, 2, 1, 40) (torch.float32)\n",
            "     key         : shape=(1, 2, 1, 40) (torch.float32)\n",
            "     value       : shape=(1, 2, 1, 40) (torch.float32)\n",
            "     attn_bias   : <class 'NoneType'>\n",
            "     p           : 0.0\n",
            "`decoderF` is not supported because:\n",
            "    xFormers wasn't build with CUDA support\n",
            "    attn_bias type is <class 'NoneType'>\n",
            "    operator wasn't built - see `python -m xformers.info` for more info\n",
            "`flshattF@0.0.0` is not supported because:\n",
            "    xFormers wasn't build with CUDA support\n",
            "    requires device with capability > (8, 0) but your GPU has capability (7, 5) (too old)\n",
            "    dtype=torch.float32 (supported: {torch.float16, torch.bfloat16})\n",
            "    operator wasn't built - see `python -m xformers.info` for more info\n",
            "`cutlassF` is not supported because:\n",
            "    xFormers wasn't build with CUDA support\n",
            "    operator wasn't built - see `python -m xformers.info` for more info\n",
            "`smallkF` is not supported because:\n",
            "    max(query.shape[-1] != value.shape[-1]) > 32\n",
            "    xFormers wasn't build with CUDA support\n",
            "    operator wasn't built - see `python -m xformers.info` for more info\n",
            "    unsupported embed per head: 40\n",
            "Traceback (most recent call last):\n",
            "  File \"/usr/local/bin/accelerate\", line 8, in <module>\n",
            "    sys.exit(main())\n",
            "  File \"/usr/local/lib/python3.10/dist-packages/accelerate/commands/accelerate_cli.py\", line 46, in main\n",
            "    args.func(args)\n",
            "  File \"/usr/local/lib/python3.10/dist-packages/accelerate/commands/launch.py\", line 1082, in launch_command\n",
            "    simple_launcher(args)\n",
            "  File \"/usr/local/lib/python3.10/dist-packages/accelerate/commands/launch.py\", line 688, in simple_launcher\n",
            "    raise subprocess.CalledProcessError(returncode=process.returncode, cmd=cmd)\n",
            "subprocess.CalledProcessError: Command '['/usr/bin/python3', '/content/diffusers/examples/text_to_image/train_text_to_image.py', '--pretrained_model_name_or_path=runwayml/stable-diffusion-v1-5', '--train_data_dir=/content/output_files', '--use_ema', '--resolution=512', '--center_crop', '--random_flip', '--train_batch_size=1', '--gradient_accumulation_steps=4', '--gradient_checkpointing', '--max_train_steps=15000', '--learning_rate=1e-05', '--max_grad_norm=1', '--caption_column=text', '--enable_xformers_memory_efficient_attention', '--lr_scheduler=constant', '--lr_warmup_steps=0', '--output_dir=/content/sample_data']' returned non-zero exit status 1.\n"
          ]
        }
      ],
      "source": [
        "!accelerate launch --mixed_precision=\"fp16\"  /content/diffusers/examples/text_to_image/train_text_to_image.py \\\n",
        "  --pretrained_model_name_or_path=runwayml/stable-diffusion-v1-5 \\\n",
        "  --train_data_dir=/content/output_files \\\n",
        "  --use_ema \\\n",
        "  --resolution=512 --center_crop --random_flip \\\n",
        "  --train_batch_size=1 \\\n",
        "  --gradient_accumulation_steps=4 \\\n",
        "  --gradient_checkpointing \\\n",
        "  --max_train_steps=15000 \\\n",
        "  --learning_rate=1e-05 \\\n",
        "  --max_grad_norm=1 \\\n",
        "  --caption_column=text\\\n",
        "  --enable_xformers_memory_efficient_attention \\\n",
        "  --lr_scheduler=\"constant\" --lr_warmup_steps=0 \\\n",
        "  --output_dir=\"/content/sample_data\""
      ]
    }
  ],
  "metadata": {
    "accelerator": "GPU",
    "colab": {
      "gpuType": "T4",
      "provenance": [],
      "authorship_tag": "ABX9TyOzh6vEEOYwcix8GYe72Fhi",
      "include_colab_link": true
    },
    "kernelspec": {
      "display_name": "Python 3",
      "name": "python3"
    },
    "language_info": {
      "name": "python"
    }
  },
  "nbformat": 4,
  "nbformat_minor": 0
}