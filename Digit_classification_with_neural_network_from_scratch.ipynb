{
  "nbformat": 4,
  "nbformat_minor": 0,
  "metadata": {
    "colab": {
      "provenance": [],
      "include_colab_link": true
    },
    "kernelspec": {
      "name": "python3",
      "display_name": "Python 3"
    },
    "language_info": {
      "name": "python"
    }
  },
  "cells": [
    {
      "cell_type": "markdown",
      "metadata": {
        "id": "view-in-github",
        "colab_type": "text"
      },
      "source": [
        "<a href=\"https://colab.research.google.com/github/Rocketpuppet/Colab-Projects/blob/main/Digit_classification_with_neural_network_from_scratch.ipynb\" target=\"_parent\"><img src=\"https://colab.research.google.com/assets/colab-badge.svg\" alt=\"Open In Colab\"/></a>"
      ]
    },
    {
      "cell_type": "markdown",
      "source": [
        "We will use a library called `numpy` for vector/matrix operations.\n",
        "\n",
        "# 1. Implement the neural network\n",
        "\n",
        "According to the definition, we should implement a 2 hidden layer neural network, with ReLU activations for each hidden layer, and an output layer with softmax activation.\n",
        "\n",
        "Neural network:\n",
        "$$\n",
        "y = softmax(y') \\\\\n",
        "y' = W^{(3)} h^{(2)} \\\\\n",
        "h^{(2)} = relu({h^{(2)}}') \\\\\n",
        "{h^{(2)}}' = W^{(2)} h^{(1)} \\\\\n",
        "h^{(1)} = relu({h^{(1)}}') \\\\\n",
        "{h^{(1)}}' = W^{(1)}x \\\\\n",
        "\\\\\n",
        "softmax(z)_i = \\frac{e^{z_i}}{Σ_{k\\in K}{e^{z_{k}}}} \\\\\n",
        "relu(z)_i = z_i \\text{ if } z_i > 0 \\text{, otherwise } 0\n",
        "$$\n",
        "\n",
        "Dimensions:\n",
        "- $y$ is a vector of size K, where K is number of output classes\n",
        "- $h^{(2)}$ is a vector of size H2\n",
        "- $h^{(1)}$ is a vector of size H1\n",
        "- $x$ is a vector of size N, where N is number of input dimensions\n",
        "- $W^{(1)}$ is a matrix of size H1 * N\n",
        "- $W^{(2)}$ is a matrix of size H2 * H1\n",
        "- $W^{(3)}$ is a matrix of size K * H2"
      ],
      "metadata": {
        "id": "RTvtt-u6h9sY"
      }
    },
    {
      "cell_type": "code",
      "execution_count": null,
      "metadata": {
        "id": "cayKhrQzhs3I"
      },
      "outputs": [],
      "source": [
        "import numpy as np\n",
        "from sklearn.model_selection import train_test_split\n",
        "from sklearn.datasets import load_digits"
      ]
    },
    {
      "cell_type": "code",
      "source": [
        "def relu(z):\n",
        "    return np.maximum(0,z)\n",
        "\n",
        "def softmax(z):\n",
        "    ezk = np.exp(z - np.max(z))\n",
        "    sum = np.sum(ezk)\n",
        "\n",
        "    return ezk/sum"
      ],
      "metadata": {
        "id": "DX0VmMTVqR48"
      },
      "execution_count": null,
      "outputs": []
    },
    {
      "cell_type": "code",
      "source": [
        "class Model:\n",
        "    def __init__(self, N, H1, H2, K):\n",
        "        \"\"\"Initialize the model.\"\"\"\n",
        "        # Size [H1 * N]\n",
        "        self.W_xh1 = np.random.randn(H1, N) * 0.01\n",
        "        # Size [H2 * H1]\n",
        "        self.W_h1h2 = np.random.randn(H2, H1) * 0.01\n",
        "        # Size [K * H2]\n",
        "        self.W_h2y = np.random.randn(K, H2) * 0.01\n",
        "\n",
        "    def forward(self, x):\n",
        "        \"\"\"Compute forward pass given an input vector x.\"\"\"\n",
        "        # Size [H1, 1]\n",
        "        h1_ =  x @ self.W_xh1.T\n",
        "        h1 = relu(h1_)\n",
        "\n",
        "        # Size [H2, 1]\n",
        "        h2_ =  h1 @ self.W_h1h2.T\n",
        "        h2 = relu(h2_)\n",
        "\n",
        "        # Size [K, 1]\n",
        "        y_ = h2 @ self.W_h2y.T\n",
        "\n",
        "        y = softmax(y_)\n",
        "\n",
        "        return [h1_,h1,h2_,h2,y_,y]"
      ],
      "metadata": {
        "id": "heYCa5uElOlK"
      },
      "execution_count": null,
      "outputs": []
    },
    {
      "cell_type": "code",
      "source": [
        "test = Model(64, 2, 10, 10)\n",
        "\n",
        "x = np.random.uniform(low=0, high=10, size=[8, 64])\n",
        "\n",
        "y = test.forward(x)\n",
        "\n",
        "np.sum(y[-1])\n",
        "\n"
      ],
      "metadata": {
        "id": "TPqgWFBnJYpF",
        "colab": {
          "base_uri": "https://localhost:8080/"
        },
        "outputId": "3d8866f2-c7e1-4278-8e22-cbbbaf91da5d"
      },
      "execution_count": null,
      "outputs": [
        {
          "output_type": "execute_result",
          "data": {
            "text/plain": [
              "0.9999999999999998"
            ]
          },
          "metadata": {},
          "execution_count": 269
        }
      ]
    },
    {
      "cell_type": "markdown",
      "source": [
        "# 2. Implement loss function and derivatives\n",
        "\n",
        "We will train out neural network with the cross-entropy loss function:\n",
        "\n",
        "$$\n",
        "L(y,t) = - \\Sigma_{i \\in K} t_i \\log y_i \\\\\n",
        "y, t \\in \\mathbb{R}^K\n",
        "$$\n",
        "\n",
        "We need to get derivatives of the loss function with respect to all parameters in our neural network: $W^{(1)}, W^{(2)}, W^{(3)}$\n",
        "\n",
        "$$\n",
        "\\frac{dL}{dW^{(3)}_{ij}} = \\frac{dL}{dy_i} \\frac{dy_i}{dy'_i} \\frac{dy'_i}{dW^{(3)}_{ij}} \\\\\n",
        "\\frac{dL}{dW^{(2)}_{jk}} = \\Sigma_i \\frac{dL}{dy_i} \\frac{dy_i}{dy'_i} \\frac{dy'_i}{dh^{(2)}_j} \\frac{dh^{(2)}_j}{d{h^{(2)}}'_j} \\frac{d{h^{(2)}}'_j}{dW^{(2)}_{jk}} \\\\\n",
        "\\frac{dL}{dW^{(1)}_{kn}} = \\Sigma_i \\Sigma_j \\frac{dL}{dy_i} \\frac{dy_i}{dy'_i} \\frac{dy'_i}{dh^{(2)}_j} \\frac{dh^{(2)}_j}{d{h^{(2)}}'} \\frac{d{h^{(2)}}'_j}{dh^{(1)}_k} \\frac{dh^{(1)}}{d{h^{(1)}}'} \\frac{d{h^{(1)}}'}{dW^{(1)}_{kn}} \\\\\n",
        "$$"
      ],
      "metadata": {
        "id": "uoQbXwiYM4nO"
      }
    },
    {
      "cell_type": "code",
      "source": [
        "def one_hot(value):\n",
        "    t_mar = np.zeros([10])\n",
        "\n",
        "    t_mar[value] = 1\n",
        "\n",
        "    return t_mar\n"
      ],
      "metadata": {
        "id": "zCdbuXM97CNB"
      },
      "execution_count": null,
      "outputs": []
    },
    {
      "cell_type": "code",
      "source": [
        "def loss_cross_entropy(y, t):\n",
        "    \"\"\"Compute cross entropy loss L(y, t).\"\"\"\n",
        "    # TODO: ensure that t is a one-hot vector\n",
        "\n",
        "    # i.e. if the target digit is 2, then t should be a vector with all zeros, except at index 2 it is 1.\n",
        "    # -(t1 * log(y1) + t2 * log(y2) + ... tn * log(yn))\n",
        "\n",
        "\n",
        "    loss = -(t* np.log(y))\n",
        "    return np.sum(loss) / len(y)"
      ],
      "metadata": {
        "id": "dxx7rM5O2Spl"
      },
      "execution_count": null,
      "outputs": []
    },
    {
      "cell_type": "code",
      "source": [
        "def normalize(vec):\n",
        "  norm = np.linalg.norm(vec)\n",
        "\n",
        "  return vec / norm"
      ],
      "metadata": {
        "id": "WXEjyodM6AFb"
      },
      "execution_count": null,
      "outputs": []
    },
    {
      "cell_type": "code",
      "source": [
        "def gradient_loss(y, t):\n",
        "    \"\"\"Compute dL/dy.\"\"\"\n",
        "    # assume t[i]=1, other indexes are 0, then\n",
        "    # dL/dy[i] = dL/dlogy[i] * dlogy[i]/dy[i] = t[i] * 1/y[i] = -t[i] / y[i]\n",
        "    return normalize(-t / y)"
      ],
      "metadata": {
        "id": "ddQQhrjfvrN9"
      },
      "execution_count": null,
      "outputs": []
    },
    {
      "cell_type": "code",
      "source": [
        "def gradient_softmax(y):\n",
        "    \"\"\"Compute dy/dz, where y = softmax(z). Returns a vector same size as z.\"\"\"\n",
        "    return normalize(y * (1 - y))"
      ],
      "metadata": {
        "id": "W9zGIrvGvucY"
      },
      "execution_count": null,
      "outputs": []
    },
    {
      "cell_type": "code",
      "source": [
        "def gradient_relu(z):\n",
        "    \"\"\"Compute d(relu(z))/dz. Returns a vector same size as z.\"\"\"\n",
        "    return normalize(np.where(z > 0, 1, 0))"
      ],
      "metadata": {
        "id": "qWDJEGXDvDFE"
      },
      "execution_count": null,
      "outputs": []
    },
    {
      "cell_type": "code",
      "source": [
        "def gradient_linear_weights(x):\n",
        "    \"\"\"Compute dz/dW, where z = Wx. Returns a matrix same size as W.\"\"\"\n",
        "    return x.T\n",
        "\n",
        "    #return normalize(x.reshape([1, -1]))\n",
        "\n",
        "# dL/dW = dL/dz * transpose(x)\n",
        "\n",
        "\n",
        "def gradient_linear_inputs(W):\n",
        "    \"\"\"Compute dz/dx, where z = Wx. Returns a vector same size as x.\"\"\"\n",
        "    return normalize(W.T)\n",
        "\n",
        "# dL/dx = transpose(W) * dL/dz"
      ],
      "metadata": {
        "id": "WkpNb2TSvwcw"
      },
      "execution_count": null,
      "outputs": []
    },
    {
      "cell_type": "markdown",
      "source": [
        "# 3. Implement gradient descent training loop\n",
        "\n",
        "We should implement backpropagation, i.e. compute the gradients in backwards order of the dependency graph, so we don't unnecessarily recompute gradients."
      ],
      "metadata": {
        "id": "GXAmrkIbRSp-"
      }
    },
    {
      "cell_type": "code",
      "source": [
        "def train_one_batch(model, x, t, learning_rate):\n",
        "    \"\"\"Given one example (x, t), update the model weights and return tuple of (loss, gradients).\n",
        "\n",
        "    Gradient descent update:\n",
        "    w_{t+1} = w_t - learning_rate * dL/d{parameter}\n",
        "\n",
        "  dL/dw3 = dL/dy * dy/dy' * dy'/dw3\n",
        "  dL/dw2 = dL/dy * dy/dy' * dy'/dh2 * dh2/dh2' * dh2_/dw2\n",
        "  dL/dw1 = dL/dy * dy/dy' * dy'/dh2 * dh2/h2' * h2'/dh1 * dh1/dh1' * dh1'/w1\n",
        "    \"\"\"\n",
        "    # forward pass\n",
        "    outputs = model.forward(x)\n",
        "\n",
        "    y = outputs[-1] + 1e-7\n",
        "\n",
        "    # compute loss function\n",
        "\n",
        "    t = one_hot(t)\n",
        "\n",
        "    l = loss_cross_entropy(y, t)\n",
        "\n",
        "    #print('l: ' , l)\n",
        "\n",
        "\n",
        "\n",
        "\n",
        "    # compute gradients\n",
        "    dL_dy = gradient_loss(y, t)\n",
        "    dL_dy_ = dL_dy * gradient_softmax(y)\n",
        "\n",
        "\n",
        "    dL_dw3 =((gradient_linear_weights(outputs[3]) @ dL_dy_).T)\n",
        "\n",
        "\n",
        "    dL_dh2 = dL_dy_ @ gradient_linear_inputs(model.W_h2y).T\n",
        "\n",
        "\n",
        "    dL_dh2_ = dL_dh2 * gradient_relu(outputs[2])\n",
        "    dL_dw2 = ((gradient_linear_weights(outputs[1]) @ dL_dh2_).T)\n",
        "\n",
        "    dL_dh1 = dL_dh2_ @ gradient_linear_inputs(model.W_h1h2).T\n",
        "    dL_dh1_ = dL_dh1 * gradient_relu(outputs[0])\n",
        "    dL_dw1 = ((gradient_linear_weights(x) @ dL_dh1_).T)\n",
        "\n",
        "\n",
        "\n",
        "    # update model weights by gradient descent step\n",
        "    '''\n",
        "    if np.all(dL_dw1 == 0):\n",
        "        print('Zero Gradient: w1')\n",
        "\n",
        "    if np.all(dL_dw2 == 0):\n",
        "        print('Zero Gradient: w2')\n",
        "\n",
        "    if np.all(dL_dw3 == 0):\n",
        "        print('Zero Gradient: w3')\n",
        "    '''\n",
        "\n",
        "    model.W_xh1 = model.W_xh1 - (learning_rate * dL_dw1)\n",
        "\n",
        "    model.W_h1h2 = model.W_h1h2 - (learning_rate * dL_dw2)\n",
        "\n",
        "    model.W_h2y = model.W_h2y - (learning_rate * dL_dw3)\n",
        "\n",
        "    return [l, dL_dw3, dL_dw2, dL_dw1]"
      ],
      "metadata": {
        "id": "6itEtE2Q25_e"
      },
      "execution_count": null,
      "outputs": []
    },
    {
      "cell_type": "code",
      "source": [
        "epsilon = 1e-7\n",
        "\n",
        "\n",
        "\n",
        "def train(model, train_X, train_y, val_X, val_y, learning_rate, num_epochs, batch_size):\n",
        "\n",
        "    \"\"\"Train model for `num_epochs` epochs.\n",
        "\n",
        "    Training should terminate if any of the following conditions are true:\n",
        "    - `num_epochs` is reached\n",
        "    - Gradients are approximately zero, i.e. the magnitude of all gradients is smaller than `epsilon`.\n",
        "\n",
        "    Notes:\n",
        "    - One epoch = one pass through the training dataset.\n",
        "    - Within one epoch, print the current value of the training loss every n steps.\n",
        "    - At the end of each epoch, print the loss of the validation set.\n",
        "\n",
        "    Returns copy of model state for each epoch in a list.\n",
        "    \"\"\"\n",
        "    training_loss, valdiation_loss = [], []\n",
        "\n",
        "    for epoch in range(num_epochs):\n",
        "        avg_val_loss = 0\n",
        "        for i in range(0, len(train_X), batch_size):\n",
        "            l = train_one_batch(model, train_X[i:i+batch_size], train_y[i:i+batch_size], learning_rate)\n",
        "\n",
        "            training_loss.append(l[0])\n",
        "\n",
        "\n",
        "        for i in range(len(val_X)):\n",
        "\n",
        "            outputs = model.forward(val_X[i])\n",
        "            predicted_y = outputs[-1] + 1e-7\n",
        "            true_y = val_y[i]\n",
        "            true_y = one_hot(true_y)\n",
        "            avg_val_loss += loss_cross_entropy(predicted_y, true_y)\n",
        "\n",
        "        avg_val_loss = avg_val_loss/len(val_X)\n",
        "\n",
        "        valdiation_loss.append(avg_val_loss)\n",
        "        #print('Current Average Valadiation Loss : ' , avg_val_loss)\n",
        "\n",
        "\n",
        "    return [training_loss, valdiation_loss]"
      ],
      "metadata": {
        "id": "s4liCMbo4wj2"
      },
      "execution_count": null,
      "outputs": []
    },
    {
      "cell_type": "markdown",
      "source": [
        "# 4. Load a dataset and train the network\n",
        "\n",
        "We will use MNIST, a famous dataset used for training ML models to recognize handwritten digits.\n",
        "\n",
        "- https://scikit-learn.org/stable/modules/generated/sklearn.datasets.load_digits.html\n",
        "- https://scikit-learn.org/stable/modules/generated/sklearn.model_selection.train_test_split.html"
      ],
      "metadata": {
        "id": "LiIDtWkv0Eby"
      }
    },
    {
      "cell_type": "code",
      "source": [
        "x, y = load_digits(return_X_y=True)\n",
        "\n",
        "X_train, X_test, Y_train, Y_test = train_test_split(x, y, test_size=0.2, random_state=42)\n",
        "\n",
        "X_train"
      ],
      "metadata": {
        "id": "UMOCHwOX28yM",
        "colab": {
          "base_uri": "https://localhost:8080/"
        },
        "outputId": "0c3e55d8-9ce2-4201-aac0-4b2241983b9d"
      },
      "execution_count": null,
      "outputs": [
        {
          "output_type": "execute_result",
          "data": {
            "text/plain": [
              "array([[ 0.,  0.,  3., ..., 13.,  4.,  0.],\n",
              "       [ 0.,  0.,  9., ...,  3.,  0.,  0.],\n",
              "       [ 0.,  0.,  0., ...,  6.,  0.,  0.],\n",
              "       ...,\n",
              "       [ 0.,  0.,  9., ..., 16.,  2.,  0.],\n",
              "       [ 0.,  0.,  1., ...,  0.,  0.,  0.],\n",
              "       [ 0.,  0.,  1., ...,  1.,  0.,  0.]])"
            ]
          },
          "metadata": {},
          "execution_count": 279
        }
      ]
    },
    {
      "cell_type": "code",
      "source": [
        "import matplotlib.pyplot as plt\n",
        "\n",
        "plt.gray()\n",
        "plt.matshow(X_train[1].reshape([8,8]))\n",
        "plt.show()\n",
        "\n",
        "print(X_train[1], Y_train[1])"
      ],
      "metadata": {
        "colab": {
          "base_uri": "https://localhost:8080/",
          "height": 524
        },
        "id": "8Lj2zhGVABi9",
        "outputId": "338fa70e-1877-4fef-f4d3-e7f12076238d"
      },
      "execution_count": null,
      "outputs": [
        {
          "output_type": "display_data",
          "data": {
            "text/plain": [
              "<Figure size 640x480 with 0 Axes>"
            ]
          },
          "metadata": {}
        },
        {
          "output_type": "display_data",
          "data": {
            "text/plain": [
              "<Figure size 480x480 with 1 Axes>"
            ],
            "image/png": "[encoded data removed]"
          },
          "metadata": {}
        },
        {
          "output_type": "stream",
          "name": "stdout",
          "text": [
            "[ 0.  0.  9.  9.  4.  0.  0.  0.  0.  0. 15. 15. 14. 12.  0.  0.  0.  3.\n",
            " 10.  1.  0. 12.  5.  0.  0.  5.  8.  0.  0.  8.  6.  0.  0.  8.  8.  0.\n",
            "  0.  8.  8.  0.  0.  5.  8.  0.  0. 10.  6.  0.  0.  4. 13.  4.  6. 13.\n",
            "  0.  0.  0.  0.  6. 16. 14.  3.  0.  0.] 0\n"
          ]
        }
      ]
    },
    {
      "cell_type": "code",
      "source": [
        "test_model = Model(64, 20, 30, 10)\n",
        "\n",
        "training_losses, valdiation_loss = train(test_model,X_train, Y_train, X_test, Y_test, 0.5, 50, 8)"
      ],
      "metadata": {
        "id": "vUod3Fzk27az"
      },
      "execution_count": null,
      "outputs": []
    },
    {
      "cell_type": "code",
      "source": [
        "batches = len(training_losses)\n",
        "epochs = len(valdiation_loss)\n",
        "\n",
        "batches_per_epoch = batches//epochs\n",
        "\n",
        "plt.plot(range(batches), training_losses)\n",
        "\n",
        "plt.plot(range(0, batches, batches_per_epoch), valdiation_loss)\n",
        "\n",
        "plt.title('Training Losses')\n",
        "plt.xlabel('Batch')\n",
        "plt.ylabel('Loss')\n",
        "\n",
        "plt.show()\n"
      ],
      "metadata": {
        "id": "JCMT6xxHuq5u",
        "colab": {
          "base_uri": "https://localhost:8080/",
          "height": 472
        },
        "outputId": "a4c56b10-ad5f-4b70-b032-f90ff90717e9"
      },
      "execution_count": null,
      "outputs": [
        {
          "output_type": "display_data",
          "data": {
            "text/plain": [
              "<Figure size 640x480 with 1 Axes>"
            ],
            "image/png": "[encoded data removed]"
          },
          "metadata": {}
        }
      ]
    },
    {
      "cell_type": "markdown",
      "source": [
        "# 5. Evaluate performance on validation/test set"
      ],
      "metadata": {
        "id": "9FFXQFjnz09L"
      }
    },
    {
      "cell_type": "code",
      "source": [
        "def evaluate(model, X, y):\n",
        "    \"\"\"Evaluate the model's accuracy on the given dataset (X, y).\"\"\"\n",
        "    correct = 0\n",
        "\n",
        "    for i in range(len(X)):\n",
        "        pred = model.forward(X[i])[-1]\n",
        "\n",
        "        if np.argmax(pred) == y[i]:\n",
        "            correct += 1\n",
        "\n",
        "    print(correct)\n",
        "    print(len(X))\n",
        "    print(correct/len(X))\n",
        "\n",
        "evaluate(test_model, X_test, Y_test)\n",
        "\n",
        "evaluate(test_model, X_train, Y_train)"
      ],
      "metadata": {
        "id": "otPvZm0Y3B-O",
        "colab": {
          "base_uri": "https://localhost:8080/"
        },
        "outputId": "9c386618-b3f3-40ad-aa87-49bfe817ac41"
      },
      "execution_count": null,
      "outputs": [
        {
          "output_type": "stream",
          "name": "stdout",
          "text": [
            "34\n",
            "360\n",
            "0.09444444444444444\n",
            "149\n",
            "1437\n",
            "0.10368823938761308\n"
          ]
        }
      ]
    }
  ]
}