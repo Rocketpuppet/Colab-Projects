{
  "nbformat": 4,
  "nbformat_minor": 0,
  "metadata": {
    "colab": {
      "provenance": [],
      "authorship_tag": "ABX9TyPtuBqm+aGisi/POsZKVMD6",
      "include_colab_link": true
    },
    "kernelspec": {
      "name": "python3",
      "display_name": "Python 3"
    },
    "language_info": {
      "name": "python"
    }
  },
  "cells": [
    {
      "cell_type": "markdown",
      "metadata": {
        "id": "view-in-github",
        "colab_type": "text"
      },
      "source": [
        "<a href=\"https://colab.research.google.com/github/Rocketpuppet/Colab-Projects/blob/main/Carbon_Emission_Visualization.ipynb\" target=\"_parent\"><img src=\"https://colab.research.google.com/assets/colab-badge.svg\" alt=\"Open In Colab\"/></a>"
      ]
    },
    {
      "cell_type": "code",
      "execution_count": null,
      "metadata": {
        "id": "oTIv7uQukGGw"
      },
      "outputs": [],
      "source": [
        "import csv\n",
        "import pandas as pd\n",
        "import numpy as np\n",
        "import matplotlib.pyplot as plt\n",
        "import plotly.express as px\n",
        "import plotly.graph_objects as go"
      ]
    },
    {
      "cell_type": "code",
      "source": [
        "Countries = []\n",
        "CarbonEmssions = []\n",
        "data_list = []\n",
        "\n",
        "\n",
        "with open('/content/World CO2 Emission Data.csv','r') as data:\n",
        "    reader = csv.reader(data)\n",
        "    data_list = list(reader)\n",
        "    for i, data in enumerate(data_list):\n",
        "      nums = 0\n",
        "      if 'CO2 emissions (kt)' in data and data[0] not in Countries:\n",
        "        Countries.append(data[0])\n",
        "        for i in data:\n",
        "            try:\n",
        "              nums += int(i)\n",
        "            except:\n",
        "              pass\n",
        "        CarbonEmssions.append(nums)\n",
        "\n",
        "print(len(Countries))\n",
        "print(len(CarbonEmssions))\n"
      ],
      "metadata": {
        "id": "pgXgChh5kgu1"
      },
      "execution_count": null,
      "outputs": []
    },
    {
      "cell_type": "code",
      "source": [
        "df = pd.DataFrame({'Countries':Countries[17:23], 'Emssions':CarbonEmssions[17:23]})\n",
        "ax = df.plot.line(x='Countries', y='Emssions', rot=0)"
      ],
      "metadata": {
        "id": "5aR-bPekvuoB"
      },
      "execution_count": null,
      "outputs": []
    },
    {
      "cell_type": "code",
      "source": [
        "def sing_country(country):\n",
        "  years = data_list[0]\n",
        "  data_points = {}\n",
        "  for i in data_list:\n",
        "      if 'CO2 emissions (kt)' and country in i:\n",
        "          for j, data in enumerate(i):\n",
        "              try:\n",
        "                int(i[j])\n",
        "                yr_int = int(years[j].split()[0])\n",
        "                data_points[yr_int] = int(i[j])\n",
        "              except:\n",
        "                pass\n",
        "\n",
        "\n",
        "  df = pd.DataFrame({'Country':data_points.keys(), 'Emssions':data_points.values()})\n",
        "  ax = df.plot.line(x='Country', y='Emssions', rot=0)\n",
        "  return None\n",
        "\n",
        "sing_country('Australia')"
      ],
      "metadata": {
        "id": "7HARwHeoEsb1"
      },
      "execution_count": null,
      "outputs": []
    }
  ]
}